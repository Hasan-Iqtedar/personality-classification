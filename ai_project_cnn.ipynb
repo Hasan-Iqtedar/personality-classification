{
  "nbformat": 4,
  "nbformat_minor": 0,
  "metadata": {
    "colab": {
      "name": "ai_project_cnn.ipynb",
      "provenance": [],
      "mount_file_id": "1F1nQda3ondUj_YpvWjuH_jz6VheLUhbL",
      "authorship_tag": "ABX9TyOpNyIrtcvYMbzvLsn+4JTF",
      "include_colab_link": true
    },
    "kernelspec": {
      "name": "python3",
      "display_name": "Python 3"
    },
    "language_info": {
      "name": "python"
    }
  },
  "cells": [
    {
      "cell_type": "markdown",
      "metadata": {
        "id": "view-in-github",
        "colab_type": "text"
      },
      "source": [
        "<a href=\"https://colab.research.google.com/github/Hasan-Iqtedar/personality-classification/blob/main/ai_project_cnn.ipynb\" target=\"_parent\"><img src=\"https://colab.research.google.com/assets/colab-badge.svg\" alt=\"Open In Colab\"/></a>"
      ]
    },
    {
      "cell_type": "code",
      "execution_count": 1,
      "metadata": {
        "id": "2gYgrfLL63yS"
      },
      "outputs": [],
      "source": [
        "import torch\n",
        "import torchvision\n",
        "from torch.utils.data import random_split\n",
        "from torch.utils.data import DataLoader\n",
        "from torchvision.utils import make_grid\n",
        "from torchvision.datasets import ImageFolder\n",
        "from torchvision.transforms import ToTensor\n",
        "import matplotlib.pyplot as plt"
      ]
    },
    {
      "cell_type": "code",
      "source": [
        "batch_size = 128\n",
        "data_dir = '/content/drive/MyDrive/ai_project/data'"
      ],
      "metadata": {
        "id": "xGrkDb-r9U2a"
      },
      "execution_count": 3,
      "outputs": []
    },
    {
      "cell_type": "code",
      "source": [
        "dataset = ImageFolder(data_dir+'/train', transform=ToTensor())"
      ],
      "metadata": {
        "id": "HsVaOx6O9X4X"
      },
      "execution_count": 5,
      "outputs": []
    },
    {
      "cell_type": "code",
      "source": [
        "dataset"
      ],
      "metadata": {
        "colab": {
          "base_uri": "https://localhost:8080/"
        },
        "id": "kErhZ1BT92e7",
        "outputId": "c4606e9f-bafd-4622-819c-b4bc19686b4d"
      },
      "execution_count": 6,
      "outputs": [
        {
          "output_type": "execute_result",
          "data": {
            "text/plain": [
              "Dataset ImageFolder\n",
              "    Number of datapoints: 164\n",
              "    Root location: /content/drive/MyDrive/ai_project/data/train\n",
              "    StandardTransform\n",
              "Transform: ToTensor()"
            ]
          },
          "metadata": {},
          "execution_count": 6
        }
      ]
    },
    {
      "cell_type": "code",
      "source": [
        "dataset.classes"
      ],
      "metadata": {
        "colab": {
          "base_uri": "https://localhost:8080/"
        },
        "id": "eDBA8a0h99yh",
        "outputId": "f752afcb-6e73-41a3-de47-9680a284846a"
      },
      "execution_count": 7,
      "outputs": [
        {
          "output_type": "execute_result",
          "data": {
            "text/plain": [
              "['extrovert', 'introvert']"
            ]
          },
          "metadata": {},
          "execution_count": 7
        }
      ]
    },
    {
      "cell_type": "code",
      "source": [
        "def imshow(img_tensor, label):\n",
        "  plt.imshow(img_tensor.permute(1, 2, 0))\n",
        "  plt.title(label)"
      ],
      "metadata": {
        "id": "kTMWFUqz-E-0"
      },
      "execution_count": null,
      "outputs": []
    }
  ]
}